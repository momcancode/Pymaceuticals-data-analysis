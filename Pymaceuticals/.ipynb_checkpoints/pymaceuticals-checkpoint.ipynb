{
 "cells": [
  {
   "cell_type": "markdown",
   "metadata": {
    "toc": true
   },
   "source": [
    "<h1>Table of Contents<span class=\"tocSkip\"></span></h1>\n",
    "<div class=\"toc\"><ul class=\"toc-item\"><li><span><a href=\"#Observations-and-Insights\" data-toc-modified-id=\"Observations-and-Insights-1\"><span class=\"toc-item-num\">1&nbsp;&nbsp;</span>Observations and Insights</a></span></li><li><span><a href=\"#Summary-Statistics\" data-toc-modified-id=\"Summary-Statistics-2\"><span class=\"toc-item-num\">2&nbsp;&nbsp;</span>Summary Statistics</a></span></li><li><span><a href=\"#Bar-and-Pie-Charts\" data-toc-modified-id=\"Bar-and-Pie-Charts-3\"><span class=\"toc-item-num\">3&nbsp;&nbsp;</span>Bar and Pie Charts</a></span></li><li><span><a href=\"#Quartiles,-Outliers-and-Boxplots\" data-toc-modified-id=\"Quartiles,-Outliers-and-Boxplots-4\"><span class=\"toc-item-num\">4&nbsp;&nbsp;</span>Quartiles, Outliers and Boxplots</a></span></li><li><span><a href=\"#Line-and-Scatter-Plots\" data-toc-modified-id=\"Line-and-Scatter-Plots-5\"><span class=\"toc-item-num\">5&nbsp;&nbsp;</span>Line and Scatter Plots</a></span></li><li><span><a href=\"#Correlation-and-Regression\" data-toc-modified-id=\"Correlation-and-Regression-6\"><span class=\"toc-item-num\">6&nbsp;&nbsp;</span>Correlation and Regression</a></span></li></ul></div>"
   ]
  },
  {
   "cell_type": "markdown",
   "metadata": {},
   "source": [
    "# Pymaceuticals' Animal Study Data Visualisation"
   ]
  },
  {
   "cell_type": "markdown",
   "metadata": {},
   "source": [
    "## Observations and Insights "
   ]
  },
  {
   "cell_type": "code",
   "execution_count": 1,
   "metadata": {
    "hide_input": false
   },
   "outputs": [],
   "source": [
    "# Dependencies and Setup\n",
    "import matplotlib.pyplot as plt\n",
    "import pandas as pd\n",
    "import scipy.stats as st\n",
    "import numpy as np\n",
    "\n",
    "# Study data files\n",
    "mouse_metadata_path = \"data/Mouse_metadata.csv\"\n",
    "study_results_path = \"data/Study_results.csv\"\n",
    "\n",
    "# Read the mouse data and the study results\n",
    "mouse_metadata = pd.read_csv(mouse_metadata_path)\n",
    "study_results = pd.read_csv(study_results_path)"
   ]
  },
  {
   "cell_type": "code",
   "execution_count": 2,
   "metadata": {},
   "outputs": [
    {
     "data": {
      "text/html": [
       "<div>\n",
       "<style scoped>\n",
       "    .dataframe tbody tr th:only-of-type {\n",
       "        vertical-align: middle;\n",
       "    }\n",
       "\n",
       "    .dataframe tbody tr th {\n",
       "        vertical-align: top;\n",
       "    }\n",
       "\n",
       "    .dataframe thead th {\n",
       "        text-align: right;\n",
       "    }\n",
       "</style>\n",
       "<table border=\"1\" class=\"dataframe\">\n",
       "  <thead>\n",
       "    <tr style=\"text-align: right;\">\n",
       "      <th></th>\n",
       "      <th>Mouse ID</th>\n",
       "      <th>Drug Regimen</th>\n",
       "      <th>Sex</th>\n",
       "      <th>Age_months</th>\n",
       "      <th>Weight (g)</th>\n",
       "    </tr>\n",
       "  </thead>\n",
       "  <tbody>\n",
       "    <tr>\n",
       "      <th>0</th>\n",
       "      <td>k403</td>\n",
       "      <td>Ramicane</td>\n",
       "      <td>Male</td>\n",
       "      <td>21</td>\n",
       "      <td>16</td>\n",
       "    </tr>\n",
       "    <tr>\n",
       "      <th>1</th>\n",
       "      <td>s185</td>\n",
       "      <td>Capomulin</td>\n",
       "      <td>Female</td>\n",
       "      <td>3</td>\n",
       "      <td>17</td>\n",
       "    </tr>\n",
       "    <tr>\n",
       "      <th>2</th>\n",
       "      <td>x401</td>\n",
       "      <td>Capomulin</td>\n",
       "      <td>Female</td>\n",
       "      <td>16</td>\n",
       "      <td>15</td>\n",
       "    </tr>\n",
       "    <tr>\n",
       "      <th>3</th>\n",
       "      <td>m601</td>\n",
       "      <td>Capomulin</td>\n",
       "      <td>Male</td>\n",
       "      <td>22</td>\n",
       "      <td>17</td>\n",
       "    </tr>\n",
       "    <tr>\n",
       "      <th>4</th>\n",
       "      <td>g791</td>\n",
       "      <td>Ramicane</td>\n",
       "      <td>Male</td>\n",
       "      <td>11</td>\n",
       "      <td>16</td>\n",
       "    </tr>\n",
       "  </tbody>\n",
       "</table>\n",
       "</div>"
      ],
      "text/plain": [
       "  Mouse ID Drug Regimen     Sex  Age_months  Weight (g)\n",
       "0     k403     Ramicane    Male          21          16\n",
       "1     s185    Capomulin  Female           3          17\n",
       "2     x401    Capomulin  Female          16          15\n",
       "3     m601    Capomulin    Male          22          17\n",
       "4     g791     Ramicane    Male          11          16"
      ]
     },
     "execution_count": 2,
     "metadata": {},
     "output_type": "execute_result"
    }
   ],
   "source": [
    "mouse_metadata.head()"
   ]
  },
  {
   "cell_type": "code",
   "execution_count": 3,
   "metadata": {},
   "outputs": [
    {
     "data": {
      "text/plain": [
       "True"
      ]
     },
     "execution_count": 3,
     "metadata": {},
     "output_type": "execute_result"
    }
   ],
   "source": [
    "# mouse_metadata dataset has a Mouse ID column. Check if it is unique.\n",
    "mouse_metadata[\"Mouse ID\"].is_unique"
   ]
  },
  {
   "cell_type": "code",
   "execution_count": 4,
   "metadata": {},
   "outputs": [
    {
     "data": {
      "text/html": [
       "<div>\n",
       "<style scoped>\n",
       "    .dataframe tbody tr th:only-of-type {\n",
       "        vertical-align: middle;\n",
       "    }\n",
       "\n",
       "    .dataframe tbody tr th {\n",
       "        vertical-align: top;\n",
       "    }\n",
       "\n",
       "    .dataframe thead th {\n",
       "        text-align: right;\n",
       "    }\n",
       "</style>\n",
       "<table border=\"1\" class=\"dataframe\">\n",
       "  <thead>\n",
       "    <tr style=\"text-align: right;\">\n",
       "      <th></th>\n",
       "      <th>Mouse ID</th>\n",
       "      <th>Timepoint</th>\n",
       "      <th>Tumor Volume (mm3)</th>\n",
       "      <th>Metastatic Sites</th>\n",
       "    </tr>\n",
       "  </thead>\n",
       "  <tbody>\n",
       "    <tr>\n",
       "      <th>0</th>\n",
       "      <td>b128</td>\n",
       "      <td>0</td>\n",
       "      <td>45.0</td>\n",
       "      <td>0</td>\n",
       "    </tr>\n",
       "    <tr>\n",
       "      <th>1</th>\n",
       "      <td>f932</td>\n",
       "      <td>0</td>\n",
       "      <td>45.0</td>\n",
       "      <td>0</td>\n",
       "    </tr>\n",
       "    <tr>\n",
       "      <th>2</th>\n",
       "      <td>g107</td>\n",
       "      <td>0</td>\n",
       "      <td>45.0</td>\n",
       "      <td>0</td>\n",
       "    </tr>\n",
       "    <tr>\n",
       "      <th>3</th>\n",
       "      <td>a457</td>\n",
       "      <td>0</td>\n",
       "      <td>45.0</td>\n",
       "      <td>0</td>\n",
       "    </tr>\n",
       "    <tr>\n",
       "      <th>4</th>\n",
       "      <td>c819</td>\n",
       "      <td>0</td>\n",
       "      <td>45.0</td>\n",
       "      <td>0</td>\n",
       "    </tr>\n",
       "  </tbody>\n",
       "</table>\n",
       "</div>"
      ],
      "text/plain": [
       "  Mouse ID  Timepoint  Tumor Volume (mm3)  Metastatic Sites\n",
       "0     b128          0                45.0                 0\n",
       "1     f932          0                45.0                 0\n",
       "2     g107          0                45.0                 0\n",
       "3     a457          0                45.0                 0\n",
       "4     c819          0                45.0                 0"
      ]
     },
     "execution_count": 4,
     "metadata": {},
     "output_type": "execute_result"
    }
   ],
   "source": [
    "study_results.head()"
   ]
  },
  {
   "cell_type": "code",
   "execution_count": 5,
   "metadata": {},
   "outputs": [
    {
     "data": {
      "text/html": [
       "<div>\n",
       "<style scoped>\n",
       "    .dataframe tbody tr th:only-of-type {\n",
       "        vertical-align: middle;\n",
       "    }\n",
       "\n",
       "    .dataframe tbody tr th {\n",
       "        vertical-align: top;\n",
       "    }\n",
       "\n",
       "    .dataframe thead th {\n",
       "        text-align: right;\n",
       "    }\n",
       "</style>\n",
       "<table border=\"1\" class=\"dataframe\">\n",
       "  <thead>\n",
       "    <tr style=\"text-align: right;\">\n",
       "      <th></th>\n",
       "      <th>Mouse ID</th>\n",
       "      <th>Timepoint</th>\n",
       "      <th>Tumor Volume (mm3)</th>\n",
       "      <th>Metastatic Sites</th>\n",
       "      <th>Drug Regimen</th>\n",
       "      <th>Sex</th>\n",
       "      <th>Age_months</th>\n",
       "      <th>Weight (g)</th>\n",
       "    </tr>\n",
       "  </thead>\n",
       "  <tbody>\n",
       "    <tr>\n",
       "      <th>0</th>\n",
       "      <td>b128</td>\n",
       "      <td>0</td>\n",
       "      <td>45.0</td>\n",
       "      <td>0</td>\n",
       "      <td>Capomulin</td>\n",
       "      <td>Female</td>\n",
       "      <td>9</td>\n",
       "      <td>22</td>\n",
       "    </tr>\n",
       "    <tr>\n",
       "      <th>1</th>\n",
       "      <td>f932</td>\n",
       "      <td>0</td>\n",
       "      <td>45.0</td>\n",
       "      <td>0</td>\n",
       "      <td>Ketapril</td>\n",
       "      <td>Male</td>\n",
       "      <td>15</td>\n",
       "      <td>29</td>\n",
       "    </tr>\n",
       "    <tr>\n",
       "      <th>2</th>\n",
       "      <td>g107</td>\n",
       "      <td>0</td>\n",
       "      <td>45.0</td>\n",
       "      <td>0</td>\n",
       "      <td>Ketapril</td>\n",
       "      <td>Female</td>\n",
       "      <td>2</td>\n",
       "      <td>29</td>\n",
       "    </tr>\n",
       "    <tr>\n",
       "      <th>3</th>\n",
       "      <td>a457</td>\n",
       "      <td>0</td>\n",
       "      <td>45.0</td>\n",
       "      <td>0</td>\n",
       "      <td>Ketapril</td>\n",
       "      <td>Female</td>\n",
       "      <td>11</td>\n",
       "      <td>30</td>\n",
       "    </tr>\n",
       "    <tr>\n",
       "      <th>4</th>\n",
       "      <td>c819</td>\n",
       "      <td>0</td>\n",
       "      <td>45.0</td>\n",
       "      <td>0</td>\n",
       "      <td>Ketapril</td>\n",
       "      <td>Male</td>\n",
       "      <td>21</td>\n",
       "      <td>25</td>\n",
       "    </tr>\n",
       "  </tbody>\n",
       "</table>\n",
       "</div>"
      ],
      "text/plain": [
       "  Mouse ID  Timepoint  Tumor Volume (mm3)  Metastatic Sites Drug Regimen  \\\n",
       "0     b128          0                45.0                 0    Capomulin   \n",
       "1     f932          0                45.0                 0     Ketapril   \n",
       "2     g107          0                45.0                 0     Ketapril   \n",
       "3     a457          0                45.0                 0     Ketapril   \n",
       "4     c819          0                45.0                 0     Ketapril   \n",
       "\n",
       "      Sex  Age_months  Weight (g)  \n",
       "0  Female           9          22  \n",
       "1    Male          15          29  \n",
       "2  Female           2          29  \n",
       "3  Female          11          30  \n",
       "4    Male          21          25  "
      ]
     },
     "execution_count": 5,
     "metadata": {},
     "output_type": "execute_result"
    }
   ],
   "source": [
    "# Combine the data into a single dataset\n",
    "df = pd.merge(study_results, mouse_metadata, how=\"left\", on=\"Mouse ID\")\n",
    "\n",
    "# Display the data table for preview\n",
    "df.head()"
   ]
  },
  {
   "cell_type": "code",
   "execution_count": 6,
   "metadata": {},
   "outputs": [
    {
     "data": {
      "text/plain": [
       "249"
      ]
     },
     "execution_count": 6,
     "metadata": {},
     "output_type": "execute_result"
    }
   ],
   "source": [
    "# Checking the number of unique mice in df beforing cleaning\n",
    "df[\"Mouse ID\"].nunique()"
   ]
  },
  {
   "cell_type": "code",
   "execution_count": 7,
   "metadata": {},
   "outputs": [
    {
     "data": {
      "text/html": [
       "<div>\n",
       "<style scoped>\n",
       "    .dataframe tbody tr th:only-of-type {\n",
       "        vertical-align: middle;\n",
       "    }\n",
       "\n",
       "    .dataframe tbody tr th {\n",
       "        vertical-align: top;\n",
       "    }\n",
       "\n",
       "    .dataframe thead th {\n",
       "        text-align: right;\n",
       "    }\n",
       "</style>\n",
       "<table border=\"1\" class=\"dataframe\">\n",
       "  <thead>\n",
       "    <tr style=\"text-align: right;\">\n",
       "      <th></th>\n",
       "      <th>Mouse ID</th>\n",
       "      <th>Timepoint</th>\n",
       "      <th>Tumor Volume (mm3)</th>\n",
       "      <th>Metastatic Sites</th>\n",
       "      <th>Drug Regimen</th>\n",
       "      <th>Sex</th>\n",
       "      <th>Age_months</th>\n",
       "      <th>Weight (g)</th>\n",
       "    </tr>\n",
       "  </thead>\n",
       "  <tbody>\n",
       "    <tr>\n",
       "      <th>107</th>\n",
       "      <td>g989</td>\n",
       "      <td>0</td>\n",
       "      <td>45.000000</td>\n",
       "      <td>0</td>\n",
       "      <td>Propriva</td>\n",
       "      <td>Female</td>\n",
       "      <td>21</td>\n",
       "      <td>26</td>\n",
       "    </tr>\n",
       "    <tr>\n",
       "      <th>137</th>\n",
       "      <td>g989</td>\n",
       "      <td>0</td>\n",
       "      <td>45.000000</td>\n",
       "      <td>0</td>\n",
       "      <td>Propriva</td>\n",
       "      <td>Female</td>\n",
       "      <td>21</td>\n",
       "      <td>26</td>\n",
       "    </tr>\n",
       "    <tr>\n",
       "      <th>329</th>\n",
       "      <td>g989</td>\n",
       "      <td>5</td>\n",
       "      <td>48.786801</td>\n",
       "      <td>0</td>\n",
       "      <td>Propriva</td>\n",
       "      <td>Female</td>\n",
       "      <td>21</td>\n",
       "      <td>26</td>\n",
       "    </tr>\n",
       "    <tr>\n",
       "      <th>360</th>\n",
       "      <td>g989</td>\n",
       "      <td>5</td>\n",
       "      <td>47.570392</td>\n",
       "      <td>0</td>\n",
       "      <td>Propriva</td>\n",
       "      <td>Female</td>\n",
       "      <td>21</td>\n",
       "      <td>26</td>\n",
       "    </tr>\n",
       "    <tr>\n",
       "      <th>620</th>\n",
       "      <td>g989</td>\n",
       "      <td>10</td>\n",
       "      <td>51.745156</td>\n",
       "      <td>0</td>\n",
       "      <td>Propriva</td>\n",
       "      <td>Female</td>\n",
       "      <td>21</td>\n",
       "      <td>26</td>\n",
       "    </tr>\n",
       "    <tr>\n",
       "      <th>681</th>\n",
       "      <td>g989</td>\n",
       "      <td>10</td>\n",
       "      <td>49.880528</td>\n",
       "      <td>0</td>\n",
       "      <td>Propriva</td>\n",
       "      <td>Female</td>\n",
       "      <td>21</td>\n",
       "      <td>26</td>\n",
       "    </tr>\n",
       "    <tr>\n",
       "      <th>815</th>\n",
       "      <td>g989</td>\n",
       "      <td>15</td>\n",
       "      <td>51.325852</td>\n",
       "      <td>1</td>\n",
       "      <td>Propriva</td>\n",
       "      <td>Female</td>\n",
       "      <td>21</td>\n",
       "      <td>26</td>\n",
       "    </tr>\n",
       "    <tr>\n",
       "      <th>869</th>\n",
       "      <td>g989</td>\n",
       "      <td>15</td>\n",
       "      <td>53.442020</td>\n",
       "      <td>0</td>\n",
       "      <td>Propriva</td>\n",
       "      <td>Female</td>\n",
       "      <td>21</td>\n",
       "      <td>26</td>\n",
       "    </tr>\n",
       "    <tr>\n",
       "      <th>950</th>\n",
       "      <td>g989</td>\n",
       "      <td>20</td>\n",
       "      <td>55.326122</td>\n",
       "      <td>1</td>\n",
       "      <td>Propriva</td>\n",
       "      <td>Female</td>\n",
       "      <td>21</td>\n",
       "      <td>26</td>\n",
       "    </tr>\n",
       "    <tr>\n",
       "      <th>1111</th>\n",
       "      <td>g989</td>\n",
       "      <td>20</td>\n",
       "      <td>54.657650</td>\n",
       "      <td>1</td>\n",
       "      <td>Propriva</td>\n",
       "      <td>Female</td>\n",
       "      <td>21</td>\n",
       "      <td>26</td>\n",
       "    </tr>\n",
       "  </tbody>\n",
       "</table>\n",
       "</div>"
      ],
      "text/plain": [
       "     Mouse ID  Timepoint  Tumor Volume (mm3)  Metastatic Sites Drug Regimen  \\\n",
       "107      g989          0           45.000000                 0     Propriva   \n",
       "137      g989          0           45.000000                 0     Propriva   \n",
       "329      g989          5           48.786801                 0     Propriva   \n",
       "360      g989          5           47.570392                 0     Propriva   \n",
       "620      g989         10           51.745156                 0     Propriva   \n",
       "681      g989         10           49.880528                 0     Propriva   \n",
       "815      g989         15           51.325852                 1     Propriva   \n",
       "869      g989         15           53.442020                 0     Propriva   \n",
       "950      g989         20           55.326122                 1     Propriva   \n",
       "1111     g989         20           54.657650                 1     Propriva   \n",
       "\n",
       "         Sex  Age_months  Weight (g)  \n",
       "107   Female          21          26  \n",
       "137   Female          21          26  \n",
       "329   Female          21          26  \n",
       "360   Female          21          26  \n",
       "620   Female          21          26  \n",
       "681   Female          21          26  \n",
       "815   Female          21          26  \n",
       "869   Female          21          26  \n",
       "950   Female          21          26  \n",
       "1111  Female          21          26  "
      ]
     },
     "execution_count": 7,
     "metadata": {},
     "output_type": "execute_result"
    }
   ],
   "source": [
    "# Check the data for any mouse ID with duplicate time points \n",
    "duplicate_rows = df[df.duplicated(subset=[\"Mouse ID\", \"Timepoint\"], keep=False)]\n",
    "duplicate_rows"
   ]
  },
  {
   "cell_type": "code",
   "execution_count": 8,
   "metadata": {},
   "outputs": [
    {
     "data": {
      "text/plain": [
       "['g989']"
      ]
     },
     "execution_count": 8,
     "metadata": {},
     "output_type": "execute_result"
    }
   ],
   "source": [
    "# List Mouse IDs with duplicate time points \n",
    "to_remove_ID = duplicate_rows[\"Mouse ID\"].unique().tolist()\n",
    "to_remove_ID"
   ]
  },
  {
   "cell_type": "code",
   "execution_count": 9,
   "metadata": {},
   "outputs": [],
   "source": [
    "# Remove any data associated with that mouse ID\n",
    "cleandf = df[~df['Mouse ID'].isin(to_remove_ID)]"
   ]
  },
  {
   "cell_type": "code",
   "execution_count": 10,
   "metadata": {},
   "outputs": [
    {
     "data": {
      "text/plain": [
       "248"
      ]
     },
     "execution_count": 10,
     "metadata": {},
     "output_type": "execute_result"
    }
   ],
   "source": [
    "# Checking the number of mice in the clean DataFrame\n",
    "cleandf[\"Mouse ID\"].nunique()"
   ]
  },
  {
   "cell_type": "code",
   "execution_count": 11,
   "metadata": {},
   "outputs": [
    {
     "name": "stdout",
     "output_type": "stream",
     "text": [
      "<class 'pandas.core.frame.DataFrame'>\n",
      "Int64Index: 1880 entries, 0 to 1892\n",
      "Data columns (total 8 columns):\n",
      " #   Column              Non-Null Count  Dtype  \n",
      "---  ------              --------------  -----  \n",
      " 0   Mouse ID            1880 non-null   object \n",
      " 1   Timepoint           1880 non-null   int64  \n",
      " 2   Tumor Volume (mm3)  1880 non-null   float64\n",
      " 3   Metastatic Sites    1880 non-null   int64  \n",
      " 4   Drug Regimen        1880 non-null   object \n",
      " 5   Sex                 1880 non-null   object \n",
      " 6   Age_months          1880 non-null   int64  \n",
      " 7   Weight (g)          1880 non-null   int64  \n",
      "dtypes: float64(1), int64(4), object(3)\n",
      "memory usage: 132.2+ KB\n"
     ]
    }
   ],
   "source": [
    "# Final overview of the dataframe: any missing values, any inappropriate data types\n",
    "cleandf.info()"
   ]
  },
  {
   "cell_type": "markdown",
   "metadata": {},
   "source": [
    "## Summary Statistics"
   ]
  },
  {
   "cell_type": "markdown",
   "metadata": {},
   "source": [
    "**Generate a summary statistics table of mean, median, variance, standard deviation, and SEM of the tumor volume for each regimen**"
   ]
  },
  {
   "cell_type": "code",
   "execution_count": 12,
   "metadata": {},
   "outputs": [],
   "source": [
    "regimen_group = cleandf.groupby(\"Drug Regimen\")\n",
    "tumor_volume = regimen_group[\"Tumor Volume (mm3)\"]"
   ]
  },
  {
   "cell_type": "code",
   "execution_count": 13,
   "metadata": {},
   "outputs": [],
   "source": [
    "# Method 1: creating multiple series and putting them all together at the end\n",
    "def summary_statistics():\n",
    "    tumor_volume_mean = tumor_volume.mean()\n",
    "    tumor_volume_median = tumor_volume.median()\n",
    "    tumor_volume_variance = tumor_volume.var()\n",
    "    tumor_volume_std = tumor_volume.std()\n",
    "    tumor_volume_sem = tumor_volume.sem()\n",
    "\n",
    "    return pd.DataFrame({\"Mean tumor volume\": tumor_volume_mean,\n",
    "                        \"Median tumor volume\": tumor_volume_median,\n",
    "                        \"Tumor volume variance\": tumor_volume_variance,\n",
    "                        \"Tumor volume standard deviation\": tumor_volume_std,\n",
    "                        \"Tumor volume SEM\": tumor_volume_sem\n",
    "                        })"
   ]
  },
  {
   "cell_type": "code",
   "execution_count": 14,
   "metadata": {},
   "outputs": [
    {
     "data": {
      "text/html": [
       "<div>\n",
       "<style scoped>\n",
       "    .dataframe tbody tr th:only-of-type {\n",
       "        vertical-align: middle;\n",
       "    }\n",
       "\n",
       "    .dataframe tbody tr th {\n",
       "        vertical-align: top;\n",
       "    }\n",
       "\n",
       "    .dataframe thead th {\n",
       "        text-align: right;\n",
       "    }\n",
       "</style>\n",
       "<table border=\"1\" class=\"dataframe\">\n",
       "  <thead>\n",
       "    <tr style=\"text-align: right;\">\n",
       "      <th></th>\n",
       "      <th>Mean tumor volume</th>\n",
       "      <th>Median tumor volume</th>\n",
       "      <th>Tumor volume variance</th>\n",
       "      <th>Tumor volume standard deviation</th>\n",
       "      <th>Tumor volume SEM</th>\n",
       "    </tr>\n",
       "    <tr>\n",
       "      <th>Drug Regimen</th>\n",
       "      <th></th>\n",
       "      <th></th>\n",
       "      <th></th>\n",
       "      <th></th>\n",
       "      <th></th>\n",
       "    </tr>\n",
       "  </thead>\n",
       "  <tbody>\n",
       "    <tr>\n",
       "      <th>Capomulin</th>\n",
       "      <td>40.675741</td>\n",
       "      <td>41.557809</td>\n",
       "      <td>24.947764</td>\n",
       "      <td>4.994774</td>\n",
       "      <td>0.329346</td>\n",
       "    </tr>\n",
       "    <tr>\n",
       "      <th>Ceftamin</th>\n",
       "      <td>52.591172</td>\n",
       "      <td>51.776157</td>\n",
       "      <td>39.290177</td>\n",
       "      <td>6.268188</td>\n",
       "      <td>0.469821</td>\n",
       "    </tr>\n",
       "    <tr>\n",
       "      <th>Infubinol</th>\n",
       "      <td>52.884795</td>\n",
       "      <td>51.820584</td>\n",
       "      <td>43.128684</td>\n",
       "      <td>6.567243</td>\n",
       "      <td>0.492236</td>\n",
       "    </tr>\n",
       "    <tr>\n",
       "      <th>Ketapril</th>\n",
       "      <td>55.235638</td>\n",
       "      <td>53.698743</td>\n",
       "      <td>68.553577</td>\n",
       "      <td>8.279709</td>\n",
       "      <td>0.603860</td>\n",
       "    </tr>\n",
       "    <tr>\n",
       "      <th>Naftisol</th>\n",
       "      <td>54.331565</td>\n",
       "      <td>52.509285</td>\n",
       "      <td>66.173479</td>\n",
       "      <td>8.134708</td>\n",
       "      <td>0.596466</td>\n",
       "    </tr>\n",
       "    <tr>\n",
       "      <th>Placebo</th>\n",
       "      <td>54.033581</td>\n",
       "      <td>52.288934</td>\n",
       "      <td>61.168083</td>\n",
       "      <td>7.821003</td>\n",
       "      <td>0.581331</td>\n",
       "    </tr>\n",
       "    <tr>\n",
       "      <th>Propriva</th>\n",
       "      <td>52.320930</td>\n",
       "      <td>50.446266</td>\n",
       "      <td>43.852013</td>\n",
       "      <td>6.622085</td>\n",
       "      <td>0.544332</td>\n",
       "    </tr>\n",
       "    <tr>\n",
       "      <th>Ramicane</th>\n",
       "      <td>40.216745</td>\n",
       "      <td>40.673236</td>\n",
       "      <td>23.486704</td>\n",
       "      <td>4.846308</td>\n",
       "      <td>0.320955</td>\n",
       "    </tr>\n",
       "    <tr>\n",
       "      <th>Stelasyn</th>\n",
       "      <td>54.233149</td>\n",
       "      <td>52.431737</td>\n",
       "      <td>59.450562</td>\n",
       "      <td>7.710419</td>\n",
       "      <td>0.573111</td>\n",
       "    </tr>\n",
       "    <tr>\n",
       "      <th>Zoniferol</th>\n",
       "      <td>53.236507</td>\n",
       "      <td>51.818479</td>\n",
       "      <td>48.533355</td>\n",
       "      <td>6.966589</td>\n",
       "      <td>0.516398</td>\n",
       "    </tr>\n",
       "  </tbody>\n",
       "</table>\n",
       "</div>"
      ],
      "text/plain": [
       "              Mean tumor volume  Median tumor volume  Tumor volume variance  \\\n",
       "Drug Regimen                                                                  \n",
       "Capomulin             40.675741            41.557809              24.947764   \n",
       "Ceftamin              52.591172            51.776157              39.290177   \n",
       "Infubinol             52.884795            51.820584              43.128684   \n",
       "Ketapril              55.235638            53.698743              68.553577   \n",
       "Naftisol              54.331565            52.509285              66.173479   \n",
       "Placebo               54.033581            52.288934              61.168083   \n",
       "Propriva              52.320930            50.446266              43.852013   \n",
       "Ramicane              40.216745            40.673236              23.486704   \n",
       "Stelasyn              54.233149            52.431737              59.450562   \n",
       "Zoniferol             53.236507            51.818479              48.533355   \n",
       "\n",
       "              Tumor volume standard deviation  Tumor volume SEM  \n",
       "Drug Regimen                                                     \n",
       "Capomulin                            4.994774          0.329346  \n",
       "Ceftamin                             6.268188          0.469821  \n",
       "Infubinol                            6.567243          0.492236  \n",
       "Ketapril                             8.279709          0.603860  \n",
       "Naftisol                             8.134708          0.596466  \n",
       "Placebo                              7.821003          0.581331  \n",
       "Propriva                             6.622085          0.544332  \n",
       "Ramicane                             4.846308          0.320955  \n",
       "Stelasyn                             7.710419          0.573111  \n",
       "Zoniferol                            6.966589          0.516398  "
      ]
     },
     "execution_count": 14,
     "metadata": {},
     "output_type": "execute_result"
    }
   ],
   "source": [
    "tumor_volume_each_regimen_summary = summary_statistics()\n",
    "tumor_volume_each_regimen_summary"
   ]
  },
  {
   "cell_type": "code",
   "execution_count": 15,
   "metadata": {},
   "outputs": [],
   "source": [
    "# Method 2: producing everything in a single groupby function\n"
   ]
  },
  {
   "cell_type": "markdown",
   "metadata": {},
   "source": [
    "## Bar and Pie Charts"
   ]
  },
  {
   "cell_type": "markdown",
   "metadata": {},
   "source": [
    "**Generate a bar plot showing the total number of mice for each treatment regimen throughout the course of the study using pandas**"
   ]
  },
  {
   "cell_type": "code",
   "execution_count": 16,
   "metadata": {},
   "outputs": [
    {
     "data": {
      "text/plain": [
       "Drug Regimen\n",
       "Capomulin    25\n",
       "Ceftamin     25\n",
       "Infubinol    25\n",
       "Ketapril     25\n",
       "Naftisol     25\n",
       "Placebo      25\n",
       "Propriva     24\n",
       "Ramicane     25\n",
       "Stelasyn     24\n",
       "Zoniferol    25\n",
       "Name: Count, dtype: int64"
      ]
     },
     "execution_count": 16,
     "metadata": {},
     "output_type": "execute_result"
    }
   ],
   "source": [
    "mice_count_per_treatment = cleandf.groupby(\"Drug Regimen\")[\"Mouse ID\"].nunique().rename(\"Count\")\n",
    "mice_count_per_treatment"
   ]
  },
  {
   "cell_type": "code",
   "execution_count": 17,
   "metadata": {},
   "outputs": [
    {
     "data": {
      "image/png": "[encoded data removed]",
      "text/plain": [
       "<Figure size 432x288 with 1 Axes>"
      ]
     },
     "metadata": {
      "needs_background": "light"
     },
     "output_type": "display_data"
    },
    {
     "data": {
      "text/plain": [
       "<Figure size 432x288 with 0 Axes>"
      ]
     },
     "metadata": {},
     "output_type": "display_data"
    }
   ],
   "source": [
    "bar_chart = mice_count_per_treatment.plot(kind=\"barh\", title=\"Number of mice each treatment\")\n",
    "bar_chart.set_xlabel(\"Number of mice\")\n",
    "plt.show()\n",
    "plt.tight_layout()"
   ]
  },
  {
   "cell_type": "markdown",
   "metadata": {},
   "source": [
    "**Generate a bar plot showing the total number of mice for each treatment regimen throughout the course of the study using pyplot**"
   ]
  },
  {
   "cell_type": "code",
   "execution_count": 18,
   "metadata": {},
   "outputs": [
    {
     "data": {
      "text/html": [
       "<div>\n",
       "<style scoped>\n",
       "    .dataframe tbody tr th:only-of-type {\n",
       "        vertical-align: middle;\n",
       "    }\n",
       "\n",
       "    .dataframe tbody tr th {\n",
       "        vertical-align: top;\n",
       "    }\n",
       "\n",
       "    .dataframe thead th {\n",
       "        text-align: right;\n",
       "    }\n",
       "</style>\n",
       "<table border=\"1\" class=\"dataframe\">\n",
       "  <thead>\n",
       "    <tr style=\"text-align: right;\">\n",
       "      <th></th>\n",
       "      <th>Drug Regimen</th>\n",
       "      <th>Count</th>\n",
       "    </tr>\n",
       "  </thead>\n",
       "  <tbody>\n",
       "    <tr>\n",
       "      <th>0</th>\n",
       "      <td>Capomulin</td>\n",
       "      <td>25</td>\n",
       "    </tr>\n",
       "    <tr>\n",
       "      <th>1</th>\n",
       "      <td>Ceftamin</td>\n",
       "      <td>25</td>\n",
       "    </tr>\n",
       "    <tr>\n",
       "      <th>2</th>\n",
       "      <td>Infubinol</td>\n",
       "      <td>25</td>\n",
       "    </tr>\n",
       "    <tr>\n",
       "      <th>3</th>\n",
       "      <td>Ketapril</td>\n",
       "      <td>25</td>\n",
       "    </tr>\n",
       "    <tr>\n",
       "      <th>4</th>\n",
       "      <td>Naftisol</td>\n",
       "      <td>25</td>\n",
       "    </tr>\n",
       "    <tr>\n",
       "      <th>5</th>\n",
       "      <td>Placebo</td>\n",
       "      <td>25</td>\n",
       "    </tr>\n",
       "    <tr>\n",
       "      <th>6</th>\n",
       "      <td>Propriva</td>\n",
       "      <td>24</td>\n",
       "    </tr>\n",
       "    <tr>\n",
       "      <th>7</th>\n",
       "      <td>Ramicane</td>\n",
       "      <td>25</td>\n",
       "    </tr>\n",
       "    <tr>\n",
       "      <th>8</th>\n",
       "      <td>Stelasyn</td>\n",
       "      <td>24</td>\n",
       "    </tr>\n",
       "    <tr>\n",
       "      <th>9</th>\n",
       "      <td>Zoniferol</td>\n",
       "      <td>25</td>\n",
       "    </tr>\n",
       "  </tbody>\n",
       "</table>\n",
       "</div>"
      ],
      "text/plain": [
       "  Drug Regimen  Count\n",
       "0    Capomulin     25\n",
       "1     Ceftamin     25\n",
       "2    Infubinol     25\n",
       "3     Ketapril     25\n",
       "4     Naftisol     25\n",
       "5      Placebo     25\n",
       "6     Propriva     24\n",
       "7     Ramicane     25\n",
       "8     Stelasyn     24\n",
       "9    Zoniferol     25"
      ]
     },
     "execution_count": 18,
     "metadata": {},
     "output_type": "execute_result"
    }
   ],
   "source": [
    "mice_count_per_treatment_df = pd.DataFrame(mice_count_per_treatment).reset_index()\n",
    "mice_count_per_treatment_df"
   ]
  },
  {
   "cell_type": "code",
   "execution_count": 19,
   "metadata": {},
   "outputs": [
    {
     "data": {
      "text/plain": [
       "0    Capomulin\n",
       "1     Ceftamin\n",
       "2    Infubinol\n",
       "3     Ketapril\n",
       "4     Naftisol\n",
       "5      Placebo\n",
       "6     Propriva\n",
       "7     Ramicane\n",
       "8     Stelasyn\n",
       "9    Zoniferol\n",
       "Name: Drug Regimen, dtype: object"
      ]
     },
     "execution_count": 19,
     "metadata": {},
     "output_type": "execute_result"
    }
   ],
   "source": [
    "drug_regimen = mice_count_per_treatment_df.iloc[:,0]\n",
    "drug_regimen"
   ]
  },
  {
   "cell_type": "code",
   "execution_count": 20,
   "metadata": {},
   "outputs": [
    {
     "data": {
      "text/plain": [
       "0    25\n",
       "1    25\n",
       "2    25\n",
       "3    25\n",
       "4    25\n",
       "5    25\n",
       "6    24\n",
       "7    25\n",
       "8    24\n",
       "9    25\n",
       "Name: Count, dtype: int64"
      ]
     },
     "execution_count": 20,
     "metadata": {},
     "output_type": "execute_result"
    }
   ],
   "source": [
    "mice_count = mice_count_per_treatment_df.iloc[:,1]\n",
    "mice_count"
   ]
  },
  {
   "cell_type": "code",
   "execution_count": 21,
   "metadata": {},
   "outputs": [
    {
     "data": {
      "image/png": "[encoded data removed]",
      "text/plain": [
       "<Figure size 432x288 with 1 Axes>"
      ]
     },
     "metadata": {
      "needs_background": "light"
     },
     "output_type": "display_data"
    }
   ],
   "source": [
    "plt.barh(drug_regimen, mice_count, height=0.5)\n",
    "plt.title(\"Number of mice each treatment\")\n",
    "plt.xlabel(\"Number of mice\")\n",
    "plt.ylabel(\"Drug Regimen\")\n",
    "plt.show()"
   ]
  },
  {
   "cell_type": "markdown",
   "metadata": {},
   "source": [
    "**Generate a pie plot showing the distribution of female versus male mice using pandas**"
   ]
  },
  {
   "cell_type": "code",
   "execution_count": 22,
   "metadata": {},
   "outputs": [
    {
     "data": {
      "text/plain": [
       "Sex\n",
       "Female    123\n",
       "Male      125\n",
       "Name: Count, dtype: int64"
      ]
     },
     "execution_count": 22,
     "metadata": {},
     "output_type": "execute_result"
    }
   ],
   "source": [
    "sexgroup_count = cleandf.groupby(\"Sex\")[\"Mouse ID\"].nunique().rename(\"Count\")\n",
    "sexgroup_count"
   ]
  },
  {
   "cell_type": "code",
   "execution_count": 23,
   "metadata": {},
   "outputs": [
    {
     "data": {
      "image/png": "[encoded data removed]",
      "text/plain": [
       "<Figure size 432x288 with 1 Axes>"
      ]
     },
     "metadata": {},
     "output_type": "display_data"
    },
    {
     "data": {
      "text/plain": [
       "<Figure size 432x288 with 0 Axes>"
      ]
     },
     "metadata": {},
     "output_type": "display_data"
    }
   ],
   "source": [
    "pie_chart = sexgroup_count.plot(kind=\"pie\", autopct=\"%1.1f%%\", legend=True, title=\"Distribution of Female versus Male mice\")\n",
    "plt.legend(loc=\"upper left\")\n",
    "plt.show()\n",
    "plt.tight_layout()"
   ]
  },
  {
   "cell_type": "markdown",
   "metadata": {},
   "source": [
    "**Generate a pie plot showing the distribution of female versus male mice using pyplot**"
   ]
  },
  {
   "cell_type": "code",
   "execution_count": 24,
   "metadata": {},
   "outputs": [
    {
     "data": {
      "text/html": [
       "<div>\n",
       "<style scoped>\n",
       "    .dataframe tbody tr th:only-of-type {\n",
       "        vertical-align: middle;\n",
       "    }\n",
       "\n",
       "    .dataframe tbody tr th {\n",
       "        vertical-align: top;\n",
       "    }\n",
       "\n",
       "    .dataframe thead th {\n",
       "        text-align: right;\n",
       "    }\n",
       "</style>\n",
       "<table border=\"1\" class=\"dataframe\">\n",
       "  <thead>\n",
       "    <tr style=\"text-align: right;\">\n",
       "      <th></th>\n",
       "      <th>Sex</th>\n",
       "      <th>Count</th>\n",
       "    </tr>\n",
       "  </thead>\n",
       "  <tbody>\n",
       "    <tr>\n",
       "      <th>0</th>\n",
       "      <td>Female</td>\n",
       "      <td>123</td>\n",
       "    </tr>\n",
       "    <tr>\n",
       "      <th>1</th>\n",
       "      <td>Male</td>\n",
       "      <td>125</td>\n",
       "    </tr>\n",
       "  </tbody>\n",
       "</table>\n",
       "</div>"
      ],
      "text/plain": [
       "      Sex  Count\n",
       "0  Female    123\n",
       "1    Male    125"
      ]
     },
     "execution_count": 24,
     "metadata": {},
     "output_type": "execute_result"
    }
   ],
   "source": [
    "sexcount_df = pd.DataFrame(sexgroup_count).reset_index()\n",
    "sexcount_df"
   ]
  },
  {
   "cell_type": "code",
   "execution_count": 25,
   "metadata": {},
   "outputs": [
    {
     "data": {
      "text/plain": [
       "0    Female\n",
       "1      Male\n",
       "Name: Sex, dtype: object"
      ]
     },
     "execution_count": 25,
     "metadata": {},
     "output_type": "execute_result"
    }
   ],
   "source": [
    "gender = sexcount_df.iloc[:,0]\n",
    "gender"
   ]
  },
  {
   "cell_type": "code",
   "execution_count": 26,
   "metadata": {},
   "outputs": [
    {
     "data": {
      "text/plain": [
       "0    123\n",
       "1    125\n",
       "Name: Count, dtype: int64"
      ]
     },
     "execution_count": 26,
     "metadata": {},
     "output_type": "execute_result"
    }
   ],
   "source": [
    "gender_count = sexcount_df.iloc[:,1]\n",
    "gender_count"
   ]
  },
  {
   "cell_type": "code",
   "execution_count": 27,
   "metadata": {},
   "outputs": [
    {
     "data": {
      "image/png": "[encoded data removed]",
      "text/plain": [
       "<Figure size 432x288 with 1 Axes>"
      ]
     },
     "metadata": {},
     "output_type": "display_data"
    }
   ],
   "source": [
    "plt.pie(gender_count, labels=gender, autopct=\"%1.1f%%\")\n",
    "plt.title(\"Distribution of Female versus Male mice\")\n",
    "plt.legend(loc=\"upper left\")\n",
    "plt.axis(\"equal\")\n",
    "plt.show()"
   ]
  },
  {
   "cell_type": "markdown",
   "metadata": {},
   "source": [
    "## Quartiles, Outliers and Boxplots"
   ]
  },
  {
   "cell_type": "markdown",
   "metadata": {},
   "source": [
    "* **Calculate the final tumor volume of each mouse across four of the most promising treatment regimens: Capomulin, Ramicane, Infubinol, and Ceftamin**\n",
    "* **Calculate the quartiles and IQR and quantitatively determine if there are any potential outliers across all four treatment regimens**"
   ]
  },
  {
   "cell_type": "code",
   "execution_count": 28,
   "metadata": {},
   "outputs": [],
   "source": [
    "treatment_list = [\"Capomulin\", \"Ramicane\", \"Infubinol\", \"Ceftamin\"]"
   ]
  },
  {
   "cell_type": "code",
   "execution_count": 29,
   "metadata": {},
   "outputs": [],
   "source": [
    "selected_df = cleandf[cleandf[\"Drug Regimen\"].isin(treatment_list)]"
   ]
  },
  {
   "cell_type": "code",
   "execution_count": 30,
   "metadata": {},
   "outputs": [],
   "source": [
    "sorted_df = selected_df.sort_values(by=[\"Drug Regimen\", \"Mouse ID\", \"Timepoint\"])"
   ]
  },
  {
   "cell_type": "code",
   "execution_count": 31,
   "metadata": {},
   "outputs": [
    {
     "data": {
      "text/html": [
       "<div>\n",
       "<style scoped>\n",
       "    .dataframe tbody tr th:only-of-type {\n",
       "        vertical-align: middle;\n",
       "    }\n",
       "\n",
       "    .dataframe tbody tr th {\n",
       "        vertical-align: top;\n",
       "    }\n",
       "\n",
       "    .dataframe thead th {\n",
       "        text-align: right;\n",
       "    }\n",
       "</style>\n",
       "<table border=\"1\" class=\"dataframe\">\n",
       "  <thead>\n",
       "    <tr style=\"text-align: right;\">\n",
       "      <th></th>\n",
       "      <th>Mouse ID</th>\n",
       "      <th>Final Tumor Volume (mm3)</th>\n",
       "    </tr>\n",
       "    <tr>\n",
       "      <th>Drug Regimen</th>\n",
       "      <th></th>\n",
       "      <th></th>\n",
       "    </tr>\n",
       "  </thead>\n",
       "  <tbody>\n",
       "    <tr>\n",
       "      <th>Capomulin</th>\n",
       "      <td>b128</td>\n",
       "      <td>38.982878</td>\n",
       "    </tr>\n",
       "    <tr>\n",
       "      <th>Capomulin</th>\n",
       "      <td>b742</td>\n",
       "      <td>38.939633</td>\n",
       "    </tr>\n",
       "    <tr>\n",
       "      <th>Capomulin</th>\n",
       "      <td>f966</td>\n",
       "      <td>30.485985</td>\n",
       "    </tr>\n",
       "    <tr>\n",
       "      <th>Capomulin</th>\n",
       "      <td>g288</td>\n",
       "      <td>37.074024</td>\n",
       "    </tr>\n",
       "    <tr>\n",
       "      <th>Capomulin</th>\n",
       "      <td>g316</td>\n",
       "      <td>40.159220</td>\n",
       "    </tr>\n",
       "    <tr>\n",
       "      <th>...</th>\n",
       "      <td>...</td>\n",
       "      <td>...</td>\n",
       "    </tr>\n",
       "    <tr>\n",
       "      <th>Ramicane</th>\n",
       "      <td>s508</td>\n",
       "      <td>30.276232</td>\n",
       "    </tr>\n",
       "    <tr>\n",
       "      <th>Ramicane</th>\n",
       "      <td>u196</td>\n",
       "      <td>40.667713</td>\n",
       "    </tr>\n",
       "    <tr>\n",
       "      <th>Ramicane</th>\n",
       "      <td>w678</td>\n",
       "      <td>43.166373</td>\n",
       "    </tr>\n",
       "    <tr>\n",
       "      <th>Ramicane</th>\n",
       "      <td>y449</td>\n",
       "      <td>44.183451</td>\n",
       "    </tr>\n",
       "    <tr>\n",
       "      <th>Ramicane</th>\n",
       "      <td>z578</td>\n",
       "      <td>30.638696</td>\n",
       "    </tr>\n",
       "  </tbody>\n",
       "</table>\n",
       "<p>100 rows × 2 columns</p>\n",
       "</div>"
      ],
      "text/plain": [
       "             Mouse ID  Final Tumor Volume (mm3)\n",
       "Drug Regimen                                   \n",
       "Capomulin        b128                 38.982878\n",
       "Capomulin        b742                 38.939633\n",
       "Capomulin        f966                 30.485985\n",
       "Capomulin        g288                 37.074024\n",
       "Capomulin        g316                 40.159220\n",
       "...               ...                       ...\n",
       "Ramicane         s508                 30.276232\n",
       "Ramicane         u196                 40.667713\n",
       "Ramicane         w678                 43.166373\n",
       "Ramicane         y449                 44.183451\n",
       "Ramicane         z578                 30.638696\n",
       "\n",
       "[100 rows x 2 columns]"
      ]
     },
     "execution_count": 31,
     "metadata": {},
     "output_type": "execute_result"
    }
   ],
   "source": [
    "final_tumor_groupby = sorted_df.groupby([\"Drug Regimen\", \"Mouse ID\"])[\"Tumor Volume (mm3)\"].last().rename(\"Final Tumor Volume (mm3)\")\n",
    "final_tumor_df = pd.DataFrame(final_tumor_groupby).reset_index()\n",
    "final_tumor_df = final_tumor_df.set_index(\"Drug Regimen\")\n",
    "final_tumor_df"
   ]
  },
  {
   "cell_type": "code",
   "execution_count": 32,
   "metadata": {},
   "outputs": [],
   "source": [
    "# Put treatments into a list for for loop (and later for plot labels)\n",
    "# Create empty list to fill with tumor vol data (for plotting)\n",
    "# Calculate the IQR and quantitatively determine if there are any potential outliers.\n",
    "# Locate the rows which contain mice on each drug and get the tumor volumes\n",
    "# add subset \n",
    "# Determine outliers using upper and lower bounds\n",
    "\n",
    "treatment_list = [\"Capomulin\", \"Ramicane\", \"Infubinol\", \"Ceftamin\"]\n",
    "tumor_vol_list = list()\n",
    "quartile_summary = list()\n",
    "potential_outlier_list = list()\n",
    "\n",
    "for treatment in treatment_list:\n",
    "    filtered_series = final_tumor_df.loc[treatment, \"Final Tumor Volume (mm3)\"]\n",
    "    \n",
    "    tumor_vol_list.append(filtered_series.tolist())\n",
    "    \n",
    "    quartiles = filtered_series.quantile([.25,.5,.75])\n",
    "    upperq = round(quartiles[0.75], 3)\n",
    "    median = round(quartiles[0.5], 3)\n",
    "    lowerq = round(quartiles[0.25], 3)\n",
    "    iqr = round((upperq-lowerq), 3)\n",
    "    \n",
    "    upper_bound = round((upperq + (1.5*iqr)), 3)\n",
    "    lower_bound = round((lowerq - (1.5*iqr)), 3)\n",
    "    \n",
    "    outlier_series = filtered_series[(filtered_series < lower_bound) | (filtered_series > upper_bound)]\n",
    "    potential_outlier_list.append(outlier_series.tolist())\n",
    "    \n",
    "    quartile_summary.append([treatment, upperq, median, lowerq, iqr, upper_bound, lower_bound])"
   ]
  },
  {
   "cell_type": "code",
   "execution_count": 33,
   "metadata": {},
   "outputs": [
    {
     "data": {
      "text/html": [
       "<div>\n",
       "<style scoped>\n",
       "    .dataframe tbody tr th:only-of-type {\n",
       "        vertical-align: middle;\n",
       "    }\n",
       "\n",
       "    .dataframe tbody tr th {\n",
       "        vertical-align: top;\n",
       "    }\n",
       "\n",
       "    .dataframe thead th {\n",
       "        text-align: right;\n",
       "    }\n",
       "</style>\n",
       "<table border=\"1\" class=\"dataframe\">\n",
       "  <thead>\n",
       "    <tr style=\"text-align: right;\">\n",
       "      <th></th>\n",
       "      <th>Treament Regimen</th>\n",
       "      <th>Upper Quartile</th>\n",
       "      <th>Median</th>\n",
       "      <th>Lower Quartile</th>\n",
       "      <th>Interquartile</th>\n",
       "      <th>Upper Bound</th>\n",
       "      <th>Lower Bound</th>\n",
       "    </tr>\n",
       "  </thead>\n",
       "  <tbody>\n",
       "    <tr>\n",
       "      <th>0</th>\n",
       "      <td>Capomulin</td>\n",
       "      <td>40.159</td>\n",
       "      <td>38.125</td>\n",
       "      <td>32.377</td>\n",
       "      <td>7.782</td>\n",
       "      <td>51.832</td>\n",
       "      <td>20.704</td>\n",
       "    </tr>\n",
       "    <tr>\n",
       "      <th>1</th>\n",
       "      <td>Ramicane</td>\n",
       "      <td>40.659</td>\n",
       "      <td>36.562</td>\n",
       "      <td>31.560</td>\n",
       "      <td>9.099</td>\n",
       "      <td>54.308</td>\n",
       "      <td>17.911</td>\n",
       "    </tr>\n",
       "    <tr>\n",
       "      <th>2</th>\n",
       "      <td>Infubinol</td>\n",
       "      <td>65.526</td>\n",
       "      <td>60.165</td>\n",
       "      <td>54.049</td>\n",
       "      <td>11.477</td>\n",
       "      <td>82.742</td>\n",
       "      <td>36.834</td>\n",
       "    </tr>\n",
       "    <tr>\n",
       "      <th>3</th>\n",
       "      <td>Ceftamin</td>\n",
       "      <td>64.300</td>\n",
       "      <td>59.852</td>\n",
       "      <td>48.722</td>\n",
       "      <td>15.578</td>\n",
       "      <td>87.667</td>\n",
       "      <td>25.355</td>\n",
       "    </tr>\n",
       "  </tbody>\n",
       "</table>\n",
       "</div>"
      ],
      "text/plain": [
       "  Treament Regimen  Upper Quartile  Median  Lower Quartile  Interquartile  \\\n",
       "0        Capomulin          40.159  38.125          32.377          7.782   \n",
       "1         Ramicane          40.659  36.562          31.560          9.099   \n",
       "2        Infubinol          65.526  60.165          54.049         11.477   \n",
       "3         Ceftamin          64.300  59.852          48.722         15.578   \n",
       "\n",
       "   Upper Bound  Lower Bound  \n",
       "0       51.832       20.704  \n",
       "1       54.308       17.911  \n",
       "2       82.742       36.834  \n",
       "3       87.667       25.355  "
      ]
     },
     "execution_count": 33,
     "metadata": {},
     "output_type": "execute_result"
    }
   ],
   "source": [
    "quantile_df = pd.DataFrame(quartile_summary, columns=[\n",
    "                           \"Treament Regimen\", \"Upper Quartile\", \"Median\", \"Lower Quartile\", \"Interquartile\", \"Upper Bound\", \"Lower Bound\"])\n",
    "quantile_df"
   ]
  },
  {
   "cell_type": "code",
   "execution_count": 34,
   "metadata": {},
   "outputs": [
    {
     "data": {
      "text/plain": [
       "[[], [], [36.321345799999996], []]"
      ]
     },
     "execution_count": 34,
     "metadata": {},
     "output_type": "execute_result"
    }
   ],
   "source": [
    "potential_outlier_list"
   ]
  },
  {
   "cell_type": "code",
   "execution_count": 35,
   "metadata": {},
   "outputs": [
    {
     "data": {
      "image/png": "[encoded data removed]",
      "text/plain": [
       "<Figure size 432x288 with 1 Axes>"
      ]
     },
     "metadata": {
      "needs_background": "light"
     },
     "output_type": "display_data"
    }
   ],
   "source": [
    "# Generate a box plot of the final tumor volume of each mouse across four regimens of interest\n",
    "red_diamond = dict(markerfacecolor='r', marker='D')\n",
    "fig, ax = plt.subplots()\n",
    "ax.boxplot(tumor_vol_list, labels=treatment_list, flierprops=red_diamond)\n",
    "ax.set_title('Final Tumor Volumes over the four treatment regimens')\n",
    "ax.set_ylabel('Final Tumor Volume (mm3)')\n",
    "ax.set_xlabel(\"Treatment regimens\")\n",
    "plt.grid()\n",
    "plt.show()"
   ]
  },
  {
   "cell_type": "markdown",
   "metadata": {},
   "source": [
    "## Line and Scatter Plots"
   ]
  },
  {
   "cell_type": "markdown",
   "metadata": {},
   "source": [
    "**Generate a line plot of time point versus tumor volume for a mouse treated with Capomulin**"
   ]
  },
  {
   "cell_type": "code",
   "execution_count": 36,
   "metadata": {},
   "outputs": [
    {
     "data": {
      "text/html": [
       "<div>\n",
       "<style scoped>\n",
       "    .dataframe tbody tr th:only-of-type {\n",
       "        vertical-align: middle;\n",
       "    }\n",
       "\n",
       "    .dataframe tbody tr th {\n",
       "        vertical-align: top;\n",
       "    }\n",
       "\n",
       "    .dataframe thead th {\n",
       "        text-align: right;\n",
       "    }\n",
       "</style>\n",
       "<table border=\"1\" class=\"dataframe\">\n",
       "  <thead>\n",
       "    <tr style=\"text-align: right;\">\n",
       "      <th></th>\n",
       "      <th>Timepoint</th>\n",
       "      <th>Tumor Volume (mm3)</th>\n",
       "      <th>Metastatic Sites</th>\n",
       "      <th>Drug Regimen</th>\n",
       "      <th>Sex</th>\n",
       "      <th>Age_months</th>\n",
       "      <th>Weight (g)</th>\n",
       "    </tr>\n",
       "    <tr>\n",
       "      <th>Mouse ID</th>\n",
       "      <th></th>\n",
       "      <th></th>\n",
       "      <th></th>\n",
       "      <th></th>\n",
       "      <th></th>\n",
       "      <th></th>\n",
       "      <th></th>\n",
       "    </tr>\n",
       "  </thead>\n",
       "  <tbody>\n",
       "    <tr>\n",
       "      <th>b128</th>\n",
       "      <td>0</td>\n",
       "      <td>45.000000</td>\n",
       "      <td>0</td>\n",
       "      <td>Capomulin</td>\n",
       "      <td>Female</td>\n",
       "      <td>9</td>\n",
       "      <td>22</td>\n",
       "    </tr>\n",
       "    <tr>\n",
       "      <th>j246</th>\n",
       "      <td>0</td>\n",
       "      <td>45.000000</td>\n",
       "      <td>0</td>\n",
       "      <td>Capomulin</td>\n",
       "      <td>Female</td>\n",
       "      <td>21</td>\n",
       "      <td>21</td>\n",
       "    </tr>\n",
       "    <tr>\n",
       "      <th>r554</th>\n",
       "      <td>0</td>\n",
       "      <td>45.000000</td>\n",
       "      <td>0</td>\n",
       "      <td>Capomulin</td>\n",
       "      <td>Female</td>\n",
       "      <td>8</td>\n",
       "      <td>17</td>\n",
       "    </tr>\n",
       "    <tr>\n",
       "      <th>s185</th>\n",
       "      <td>0</td>\n",
       "      <td>45.000000</td>\n",
       "      <td>0</td>\n",
       "      <td>Capomulin</td>\n",
       "      <td>Female</td>\n",
       "      <td>3</td>\n",
       "      <td>17</td>\n",
       "    </tr>\n",
       "    <tr>\n",
       "      <th>b742</th>\n",
       "      <td>0</td>\n",
       "      <td>45.000000</td>\n",
       "      <td>0</td>\n",
       "      <td>Capomulin</td>\n",
       "      <td>Male</td>\n",
       "      <td>7</td>\n",
       "      <td>21</td>\n",
       "    </tr>\n",
       "    <tr>\n",
       "      <th>...</th>\n",
       "      <td>...</td>\n",
       "      <td>...</td>\n",
       "      <td>...</td>\n",
       "      <td>...</td>\n",
       "      <td>...</td>\n",
       "      <td>...</td>\n",
       "      <td>...</td>\n",
       "    </tr>\n",
       "    <tr>\n",
       "      <th>s710</th>\n",
       "      <td>45</td>\n",
       "      <td>40.728578</td>\n",
       "      <td>1</td>\n",
       "      <td>Capomulin</td>\n",
       "      <td>Female</td>\n",
       "      <td>1</td>\n",
       "      <td>23</td>\n",
       "    </tr>\n",
       "    <tr>\n",
       "      <th>j119</th>\n",
       "      <td>45</td>\n",
       "      <td>38.125164</td>\n",
       "      <td>1</td>\n",
       "      <td>Capomulin</td>\n",
       "      <td>Female</td>\n",
       "      <td>7</td>\n",
       "      <td>23</td>\n",
       "    </tr>\n",
       "    <tr>\n",
       "      <th>i557</th>\n",
       "      <td>45</td>\n",
       "      <td>47.685963</td>\n",
       "      <td>1</td>\n",
       "      <td>Capomulin</td>\n",
       "      <td>Female</td>\n",
       "      <td>1</td>\n",
       "      <td>24</td>\n",
       "    </tr>\n",
       "    <tr>\n",
       "      <th>r944</th>\n",
       "      <td>45</td>\n",
       "      <td>41.581521</td>\n",
       "      <td>2</td>\n",
       "      <td>Capomulin</td>\n",
       "      <td>Male</td>\n",
       "      <td>12</td>\n",
       "      <td>25</td>\n",
       "    </tr>\n",
       "    <tr>\n",
       "      <th>u364</th>\n",
       "      <td>45</td>\n",
       "      <td>31.023923</td>\n",
       "      <td>3</td>\n",
       "      <td>Capomulin</td>\n",
       "      <td>Male</td>\n",
       "      <td>18</td>\n",
       "      <td>17</td>\n",
       "    </tr>\n",
       "  </tbody>\n",
       "</table>\n",
       "<p>230 rows × 7 columns</p>\n",
       "</div>"
      ],
      "text/plain": [
       "          Timepoint  Tumor Volume (mm3)  Metastatic Sites Drug Regimen  \\\n",
       "Mouse ID                                                                 \n",
       "b128              0           45.000000                 0    Capomulin   \n",
       "j246              0           45.000000                 0    Capomulin   \n",
       "r554              0           45.000000                 0    Capomulin   \n",
       "s185              0           45.000000                 0    Capomulin   \n",
       "b742              0           45.000000                 0    Capomulin   \n",
       "...             ...                 ...               ...          ...   \n",
       "s710             45           40.728578                 1    Capomulin   \n",
       "j119             45           38.125164                 1    Capomulin   \n",
       "i557             45           47.685963                 1    Capomulin   \n",
       "r944             45           41.581521                 2    Capomulin   \n",
       "u364             45           31.023923                 3    Capomulin   \n",
       "\n",
       "             Sex  Age_months  Weight (g)  \n",
       "Mouse ID                                  \n",
       "b128      Female           9          22  \n",
       "j246      Female          21          21  \n",
       "r554      Female           8          17  \n",
       "s185      Female           3          17  \n",
       "b742        Male           7          21  \n",
       "...          ...         ...         ...  \n",
       "s710      Female           1          23  \n",
       "j119      Female           7          23  \n",
       "i557      Female           1          24  \n",
       "r944        Male          12          25  \n",
       "u364        Male          18          17  \n",
       "\n",
       "[230 rows x 7 columns]"
      ]
     },
     "execution_count": 36,
     "metadata": {},
     "output_type": "execute_result"
    }
   ],
   "source": [
    "capomulin_df = cleandf[cleandf[\"Drug Regimen\"] == \"Capomulin\"].set_index(\"Mouse ID\")\n",
    "capomulin_df"
   ]
  },
  {
   "cell_type": "code",
   "execution_count": 37,
   "metadata": {},
   "outputs": [
    {
     "name": "stdout",
     "output_type": "stream",
     "text": [
      "Which Mouse ID would you like to look at? j119\n"
     ]
    }
   ],
   "source": [
    "mouse_to_search = input(\"Which Mouse ID would you like to look at? \")"
   ]
  },
  {
   "cell_type": "code",
   "execution_count": 38,
   "metadata": {},
   "outputs": [
    {
     "data": {
      "image/png": "[encoded data removed]",
      "text/plain": [
       "<Figure size 432x288 with 1 Axes>"
      ]
     },
     "metadata": {
      "needs_background": "light"
     },
     "output_type": "display_data"
    }
   ],
   "source": [
    "time_point_the_mouse = capomulin_df.loc[mouse_to_search, \"Timepoint\"]\n",
    "tumor_volume_the_mouse = capomulin_df.loc[mouse_to_search, \"Tumor Volume (mm3)\"]\n",
    "\n",
    "plt.plot(time_point_the_mouse, tumor_volume_the_mouse)\n",
    "\n",
    "plt.title(f\"Time point versus tumor volume for Mouse ID {mouse_to_search}\")\n",
    "plt.xlabel(\"Timepoints\")\n",
    "plt.ylabel(\"Tumor volume (mm3)\")\n",
    "plt.show()"
   ]
  },
  {
   "cell_type": "markdown",
   "metadata": {},
   "source": [
    "**Generate a scatter plot of mouse weight versus average tumor volume for the Capomulin regimen**"
   ]
  },
  {
   "cell_type": "code",
   "execution_count": 39,
   "metadata": {},
   "outputs": [
    {
     "data": {
      "text/html": [
       "<div>\n",
       "<style scoped>\n",
       "    .dataframe tbody tr th:only-of-type {\n",
       "        vertical-align: middle;\n",
       "    }\n",
       "\n",
       "    .dataframe tbody tr th {\n",
       "        vertical-align: top;\n",
       "    }\n",
       "\n",
       "    .dataframe thead th {\n",
       "        text-align: right;\n",
       "    }\n",
       "</style>\n",
       "<table border=\"1\" class=\"dataframe\">\n",
       "  <thead>\n",
       "    <tr style=\"text-align: right;\">\n",
       "      <th></th>\n",
       "      <th>Mouse ID</th>\n",
       "      <th>Weight (g)</th>\n",
       "      <th>Average tumor volume (mm3)</th>\n",
       "    </tr>\n",
       "  </thead>\n",
       "  <tbody>\n",
       "    <tr>\n",
       "      <th>0</th>\n",
       "      <td>b128</td>\n",
       "      <td>22</td>\n",
       "      <td>41.963636</td>\n",
       "    </tr>\n",
       "    <tr>\n",
       "      <th>1</th>\n",
       "      <td>b742</td>\n",
       "      <td>21</td>\n",
       "      <td>40.083699</td>\n",
       "    </tr>\n",
       "    <tr>\n",
       "      <th>2</th>\n",
       "      <td>f966</td>\n",
       "      <td>17</td>\n",
       "      <td>36.505973</td>\n",
       "    </tr>\n",
       "    <tr>\n",
       "      <th>3</th>\n",
       "      <td>g288</td>\n",
       "      <td>19</td>\n",
       "      <td>41.990097</td>\n",
       "    </tr>\n",
       "    <tr>\n",
       "      <th>4</th>\n",
       "      <td>g316</td>\n",
       "      <td>22</td>\n",
       "      <td>44.613344</td>\n",
       "    </tr>\n",
       "    <tr>\n",
       "      <th>5</th>\n",
       "      <td>i557</td>\n",
       "      <td>24</td>\n",
       "      <td>44.805810</td>\n",
       "    </tr>\n",
       "    <tr>\n",
       "      <th>6</th>\n",
       "      <td>i738</td>\n",
       "      <td>20</td>\n",
       "      <td>39.141053</td>\n",
       "    </tr>\n",
       "    <tr>\n",
       "      <th>7</th>\n",
       "      <td>j119</td>\n",
       "      <td>23</td>\n",
       "      <td>44.465236</td>\n",
       "    </tr>\n",
       "    <tr>\n",
       "      <th>8</th>\n",
       "      <td>j246</td>\n",
       "      <td>21</td>\n",
       "      <td>43.216925</td>\n",
       "    </tr>\n",
       "    <tr>\n",
       "      <th>9</th>\n",
       "      <td>l509</td>\n",
       "      <td>21</td>\n",
       "      <td>44.434474</td>\n",
       "    </tr>\n",
       "    <tr>\n",
       "      <th>10</th>\n",
       "      <td>l897</td>\n",
       "      <td>19</td>\n",
       "      <td>42.507261</td>\n",
       "    </tr>\n",
       "    <tr>\n",
       "      <th>11</th>\n",
       "      <td>m601</td>\n",
       "      <td>17</td>\n",
       "      <td>34.847470</td>\n",
       "    </tr>\n",
       "    <tr>\n",
       "      <th>12</th>\n",
       "      <td>m957</td>\n",
       "      <td>19</td>\n",
       "      <td>39.049816</td>\n",
       "    </tr>\n",
       "    <tr>\n",
       "      <th>13</th>\n",
       "      <td>r157</td>\n",
       "      <td>25</td>\n",
       "      <td>45.798970</td>\n",
       "    </tr>\n",
       "    <tr>\n",
       "      <th>14</th>\n",
       "      <td>r554</td>\n",
       "      <td>17</td>\n",
       "      <td>36.509212</td>\n",
       "    </tr>\n",
       "    <tr>\n",
       "      <th>15</th>\n",
       "      <td>r944</td>\n",
       "      <td>25</td>\n",
       "      <td>43.367364</td>\n",
       "    </tr>\n",
       "    <tr>\n",
       "      <th>16</th>\n",
       "      <td>s185</td>\n",
       "      <td>17</td>\n",
       "      <td>34.559143</td>\n",
       "    </tr>\n",
       "    <tr>\n",
       "      <th>17</th>\n",
       "      <td>s710</td>\n",
       "      <td>23</td>\n",
       "      <td>42.803733</td>\n",
       "    </tr>\n",
       "    <tr>\n",
       "      <th>18</th>\n",
       "      <td>t565</td>\n",
       "      <td>17</td>\n",
       "      <td>39.328725</td>\n",
       "    </tr>\n",
       "    <tr>\n",
       "      <th>19</th>\n",
       "      <td>u364</td>\n",
       "      <td>17</td>\n",
       "      <td>39.887495</td>\n",
       "    </tr>\n",
       "    <tr>\n",
       "      <th>20</th>\n",
       "      <td>v923</td>\n",
       "      <td>21</td>\n",
       "      <td>41.581595</td>\n",
       "    </tr>\n",
       "    <tr>\n",
       "      <th>21</th>\n",
       "      <td>w150</td>\n",
       "      <td>23</td>\n",
       "      <td>41.384825</td>\n",
       "    </tr>\n",
       "    <tr>\n",
       "      <th>22</th>\n",
       "      <td>w914</td>\n",
       "      <td>21</td>\n",
       "      <td>41.352452</td>\n",
       "    </tr>\n",
       "    <tr>\n",
       "      <th>23</th>\n",
       "      <td>x401</td>\n",
       "      <td>15</td>\n",
       "      <td>36.182040</td>\n",
       "    </tr>\n",
       "    <tr>\n",
       "      <th>24</th>\n",
       "      <td>y793</td>\n",
       "      <td>17</td>\n",
       "      <td>38.506829</td>\n",
       "    </tr>\n",
       "  </tbody>\n",
       "</table>\n",
       "</div>"
      ],
      "text/plain": [
       "   Mouse ID  Weight (g)  Average tumor volume (mm3)\n",
       "0      b128          22                   41.963636\n",
       "1      b742          21                   40.083699\n",
       "2      f966          17                   36.505973\n",
       "3      g288          19                   41.990097\n",
       "4      g316          22                   44.613344\n",
       "5      i557          24                   44.805810\n",
       "6      i738          20                   39.141053\n",
       "7      j119          23                   44.465236\n",
       "8      j246          21                   43.216925\n",
       "9      l509          21                   44.434474\n",
       "10     l897          19                   42.507261\n",
       "11     m601          17                   34.847470\n",
       "12     m957          19                   39.049816\n",
       "13     r157          25                   45.798970\n",
       "14     r554          17                   36.509212\n",
       "15     r944          25                   43.367364\n",
       "16     s185          17                   34.559143\n",
       "17     s710          23                   42.803733\n",
       "18     t565          17                   39.328725\n",
       "19     u364          17                   39.887495\n",
       "20     v923          21                   41.581595\n",
       "21     w150          23                   41.384825\n",
       "22     w914          21                   41.352452\n",
       "23     x401          15                   36.182040\n",
       "24     y793          17                   38.506829"
      ]
     },
     "execution_count": 39,
     "metadata": {},
     "output_type": "execute_result"
    }
   ],
   "source": [
    "weight_tumor_group = capomulin_df.groupby([\"Mouse ID\", \"Weight (g)\"])[\"Tumor Volume (mm3)\"].mean().rename(\"Average tumor volume (mm3)\")\n",
    "weight_tumor_df = pd.DataFrame(weight_tumor_group).reset_index()\n",
    "weight_tumor_df"
   ]
  },
  {
   "cell_type": "code",
   "execution_count": 40,
   "metadata": {},
   "outputs": [],
   "source": [
    "mouse_weights = weight_tumor_df[\"Weight (g)\"]\n",
    "average_tumor_volume = weight_tumor_df[\"Average tumor volume (mm3)\"]"
   ]
  },
  {
   "cell_type": "code",
   "execution_count": 41,
   "metadata": {},
   "outputs": [
    {
     "data": {
      "image/png": "[encoded data removed]",
      "text/plain": [
       "<Figure size 432x288 with 1 Axes>"
      ]
     },
     "metadata": {
      "needs_background": "light"
     },
     "output_type": "display_data"
    }
   ],
   "source": [
    "plt.scatter(mouse_weights, average_tumor_volume, facecolors=\"grey\", alpha=0.75)\n",
    "plt.xlabel(\"Mouse Weight (g)\")\n",
    "plt.ylabel(\"Tumor Volume (mm3)\")\n",
    "plt.title(\"Weight vs Average Tumor Volume Movements for Mice treated with Capomulin\")\n",
    "plt.xlim(14,26)\n",
    "plt.ylim(20,50)\n",
    "plt.grid()\n",
    "plt.show()"
   ]
  },
  {
   "cell_type": "markdown",
   "metadata": {},
   "source": [
    "## Correlation and Regression"
   ]
  },
  {
   "cell_type": "code",
   "execution_count": 42,
   "metadata": {},
   "outputs": [
    {
     "name": "stdout",
     "output_type": "stream",
     "text": [
      "The correlation coefficient between mouse weight and average tumor volume is 0.84\n"
     ]
    }
   ],
   "source": [
    "# Calculate the correlation coefficient between mouse weight and average tumor volume for the Capomulin regimen\n",
    "corr_coefficient = round(st.pearsonr(mouse_weights,average_tumor_volume)[0], 2)\n",
    "print(f\"The correlation coefficient between mouse weight and average tumor volume is {corr_coefficient}\")"
   ]
  },
  {
   "cell_type": "markdown",
   "metadata": {},
   "source": [
    "There is a strong positive correlation between mouse weights and average tumor volumes."
   ]
  },
  {
   "cell_type": "code",
   "execution_count": 43,
   "metadata": {},
   "outputs": [],
   "source": [
    "# Perform a linear regression on mouse weight versus average tumor volume for the Capomulin regimen\n",
    "(slope, intercept, rvalue, pvalue, stderr) = st.linregress(mouse_weights, average_tumor_volume)"
   ]
  },
  {
   "cell_type": "code",
   "execution_count": 44,
   "metadata": {},
   "outputs": [
    {
     "name": "stdout",
     "output_type": "stream",
     "text": [
      "y = 0.95x + 21.55\n"
     ]
    }
   ],
   "source": [
    "# Create equation of line to calculate predicted Average Tumor Volume for the Capomulin regimen\n",
    "tumor_volume_regress_values = slope * mouse_weights + intercept\n",
    "line_eq = \"y = \" + str(round(slope,2)) + \"x + \" + str(round(intercept,2))\n",
    "print(line_eq)"
   ]
  },
  {
   "cell_type": "code",
   "execution_count": 45,
   "metadata": {},
   "outputs": [
    {
     "data": {
      "image/png": "[encoded data removed]",
      "text/plain": [
       "<Figure size 432x288 with 1 Axes>"
      ]
     },
     "metadata": {
      "needs_background": "light"
     },
     "output_type": "display_data"
    }
   ],
   "source": [
    "# Plot the linear model on top of scatter plot \n",
    "plt.scatter(mouse_weights, average_tumor_volume, facecolors=\"grey\", alpha=0.75)\n",
    "\n",
    "plt.plot(mouse_weights, tumor_volume_regress_values, \"b--\", linewidth=1)\n",
    "plt.annotate(line_eq, (18, 36),fontsize=15,color=\"blue\")\n",
    "\n",
    "plt.xlabel(\"Mouse Weight (g)\")\n",
    "plt.ylabel(\"Tumor Volume (mm3)\")\n",
    "plt.title(\"Weight vs Average Tumor Volume Movements for Mice treated with Capomulin\")\n",
    "plt.xlim(14,26)\n",
    "plt.ylim(20,50)\n",
    "plt.grid()\n",
    "plt.show()"
   ]
  },
  {
   "cell_type": "code",
   "execution_count": null,
   "metadata": {},
   "outputs": [],
   "source": []
  }
 ],
 "metadata": {
  "anaconda-cloud": {},
  "kernelspec": {
   "display_name": "Python [conda env:PythonData] *",
   "language": "python",
   "name": "conda-env-PythonData-py"
  },
  "language_info": {
   "codemirror_mode": {
    "name": "ipython",
    "version": 3
   },
   "file_extension": ".py",
   "mimetype": "text/x-python",
   "name": "python",
   "nbconvert_exporter": "python",
   "pygments_lexer": "ipython3",
   "version": "3.7.6"
  },
  "toc": {
   "base_numbering": 1,
   "nav_menu": {},
   "number_sections": true,
   "sideBar": true,
   "skip_h1_title": true,
   "title_cell": "Table of Contents",
   "title_sidebar": "Contents",
   "toc_cell": true,
   "toc_position": {
    "height": "calc(100% - 180px)",
    "left": "10px",
    "top": "150px",
    "width": "165px"
   },
   "toc_section_display": true,
   "toc_window_display": true
  },
  "varInspector": {
   "cols": {
    "lenName": 16,
    "lenType": 16,
    "lenVar": 40
   },
   "kernels_config": {
    "python": {
     "delete_cmd_postfix": "",
     "delete_cmd_prefix": "del ",
     "library": "var_list.py",
     "varRefreshCmd": "print(var_dic_list())"
    },
    "r": {
     "delete_cmd_postfix": ") ",
     "delete_cmd_prefix": "rm(",
     "library": "var_list.r",
     "varRefreshCmd": "cat(var_dic_list()) "
    }
   },
   "types_to_exclude": [
    "module",
    "function",
    "builtin_function_or_method",
    "instance",
    "_Feature"
   ],
   "window_display": false
  }
 },
 "nbformat": 4,
 "nbformat_minor": 2
}
